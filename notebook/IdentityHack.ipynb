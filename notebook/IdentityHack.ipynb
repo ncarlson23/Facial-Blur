{
  "nbformat": 4,
  "nbformat_minor": 0,
  "metadata": {
    "colab": {
      "name": "IdentityHack.ipynb",
      "provenance": [],
      "collapsed_sections": []
    },
    "kernelspec": {
      "name": "python3",
      "display_name": "Python 3"
    },
    "language_info": {
      "name": "python"
    }
  },
  "cells": [
    {
      "cell_type": "markdown",
      "source": [
        "#**Microsoft Identity for All : Hackathon for Microsoft Employees**\n",
        "\n"
      ],
      "metadata": {
        "id": "en4073vORWcX"
      }
    },
    {
      "cell_type": "markdown",
      "source": [
        "### **Nina Carlson**\n",
        "\n",
        "Explore Intern\n",
        "\n",
        "IES | HCCS | Service Enablement\n",
        "\n",
        "![image.png](data:image/png;base64,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)"
      ],
      "metadata": {
        "id": "PBEbyaL2SY5o"
      }
    },
    {
      "cell_type": "markdown",
      "source": [
        "# **FaceBlur**\n",
        "\n",
        "FaceBlur is a tool that detects faces in images using the Azure Cognitive Services Face API and blurs them to anonymize the information as a security and privacy measure. \n",
        "\n",
        "FaceBlur was created in Google Colab (notebook) and is written in Python. The tool leverages the Azure Cognitive Services Face API. \n",
        "\n",
        "Find more information about the Azure Face API here: \n",
        "https://docs.microsoft.com/en-us/azure/cognitive-services/computer-vision/overview-identity\n",
        "\n"
      ],
      "metadata": {
        "id": "pwXVL1YBTJaA"
      }
    },
    {
      "cell_type": "code",
      "execution_count": null,
      "metadata": {
        "id": "q-qP9_gNlcFH"
      },
      "outputs": [],
      "source": [
        "#Imports\n",
        "import os,sys,json,glob,requests,cv2\n",
        "\n",
        "import matplotlib.pyplot as plt\n",
        "from matplotlib import patches\n",
        "from PIL import Image\n",
        "from io import BytesIO\n",
        "import json as js\n",
        "\n",
        "#Display images within notebook\n",
        "%matplotlib inline"
      ]
    },
    {
      "cell_type": "code",
      "source": [
        "#Loads info from config file \n",
        "with open('config.json','r') as file:\n",
        "    config = json.load(file)"
      ],
      "metadata": {
        "id": "Cr1N1qmilln1"
      },
      "execution_count": null,
      "outputs": []
    },
    {
      "cell_type": "code",
      "source": [
        "#Instantiate variables and parameters needed to call the Face API \n",
        "#Variables\n",
        "_url = config['face_api_endpoint']\n",
        "_url_detection_face = _url + config['face_detection_url']\n",
        "_key = config['face_api_key']\n",
        "_maxNumRetries = 10\n",
        "\n",
        "#params\n",
        "params = {\n",
        "    'detectionModel':'detection_02',\n",
        "    'returFaceId': 'true'\n",
        "}\n",
        "\n",
        "#headers\n",
        "headers = dict()\n",
        "headers['Ocp-Apim-Subscription-Key'] = _key"
      ],
      "metadata": {
        "id": "CVW1hSBUmMFB"
      },
      "execution_count": null,
      "outputs": []
    },
    {
      "cell_type": "code",
      "source": [
        "#Run this cell to load an img from url\n",
        "\n",
        "#Load image from url\n",
        "image = '' #insert the url of image\n",
        "headers['Content-Type'] = 'application/json'\n",
        "data = None\n",
        "js = {'url': image}"
      ],
      "metadata": {
        "id": "FQqLjxlrmVui"
      },
      "execution_count": null,
      "outputs": []
    },
    {
      "cell_type": "code",
      "source": [
        "#Option to Load local file\n",
        "# headers['Content-Type'] = 'application/octet-stream'\n",
        "# js = None\n",
        "\n",
        "# with open('/content/temp/test.png','rb') as f:\n",
        "#     data = f.read()"
      ],
      "metadata": {
        "id": "-U4H0MGumjLi"
      },
      "execution_count": 1,
      "outputs": []
    },
    {
      "cell_type": "code",
      "source": [
        "#post image, return dimensions of face in JSON format\n",
        "\n",
        "response = requests.post(_url_detection_face,params=params,headers=headers, json=js,data=data)\n",
        "faces_detected = response.json()\n",
        "print(response.json())"
      ],
      "metadata": {
        "id": "n7c-yQG0mo0r"
      },
      "execution_count": null,
      "outputs": []
    },
    {
      "cell_type": "code",
      "source": [
        "#Plot detected faces (from url image)\n",
        "get_img = requests.get('')\n",
        "img = Image.open(BytesIO(get_img.content))\n",
        "\n",
        "plt.figure(figsize=(8,8))\n",
        "ax = plt.imshow(img, alpha=0.6)\n",
        "for face in faces_detected:\n",
        "    fr = face[\"faceRectangle\"]\n",
        "    origin = (fr[\"left\"], fr[\"top\"])\n",
        "    p = patches.Rectangle(origin, fr[\"width\"], fr[\"height\"], fill=False, linewidth=2, color='b')\n",
        "    ax.axes.add_patch(p)\n",
        "_ = plt.axis(\"off\")"
      ],
      "metadata": {
        "id": "C5vqlzg6nfOR"
      },
      "execution_count": null,
      "outputs": []
    },
    {
      "cell_type": "code",
      "source": [
        "#Helper function to temp download the image in the temp folder\n",
        "def downloadImg(img,img_name):\n",
        "    path = \"./temp/\" + img_name + \".png\"\n",
        "    file = open(path, \"wb\")\n",
        "    file.write(img.content)\n",
        "    file.close()\n",
        "    print('Img file downloaded')\n",
        "    return path"
      ],
      "metadata": {
        "id": "saTj4zHWnxo4"
      },
      "execution_count": null,
      "outputs": []
    },
    {
      "cell_type": "code",
      "source": [
        "#Helper function to blur all the faces detected and save the file\n",
        "def blurImg(img,height,width,origin):\n",
        "    output = \"./blurred_img/blurred_img.jpg\"\n",
        "    #Read img\n",
        "    im = cv2.imread(path)\n",
        "    #Create ROI\n",
        "    h,w = height,width\n",
        "    x,y = origin[0],origin[1]\n",
        "    roi = im[int(y):int(y)+int(h),int(x):int(x)+int(w)]\n",
        "    #Blur image in ROI\n",
        "    blurred_img = cv2.GaussianBlur(roi,(91,91),0)\n",
        "    #Add blur to the overall img\n",
        "    im[int(y):int(y)+int(h),int(x):int(x)+int(w)] = blurred_img\n",
        "    #Save blurred img\n",
        "    result=cv2.imwrite(r'./blurred_img/blurred_img.jpg', im)\n",
        "    if result==True:\n",
        "        print(\"File saved successfully\")\n",
        "    else:\n",
        "        print(\"Error in saving file\")\n",
        "    return output"
      ],
      "metadata": {
        "id": "QEaAvCfyn3B6"
      },
      "execution_count": null,
      "outputs": []
    },
    {
      "cell_type": "code",
      "source": [
        "#Applies the blur to the faces detected\n",
        "path = downloadImg(get_img,\"test\")\n",
        "\n",
        "for face in faces_detected:\n",
        "    fr = face[\"faceRectangle\"]\n",
        "    origin = (fr[\"left\"], fr[\"top\"])\n",
        "    path = blurImg(path,fr['height'],fr['width'],origin)"
      ],
      "metadata": {
        "id": "6IS7TsXHn5CR"
      },
      "execution_count": null,
      "outputs": []
    }
  ]
}